"""
Horizontal Buttons in Labeled Frame

Author: Anthony - working from Jan Bodnar's examples
found on www.zetcode.com
"""

from tkinter import Tk, Frame, Button
from tkinter import BOTH, LEFT, TOP

class Example(Frame):

    def __init__(self):
        super().__init__()

        self.initUI()


    def initUI(self):

        self.master.title("Title")
        self.pack(fill=BOTH)
        
        frame = Frame(self, bd=5, relief = 'sunken')
        frame.pack(fill = 'x', expand = 1)
        
        framename = "Frame Label"
        lbl = Label(frame, text=framename,  bd=5, relief = 'raised')
        lbl.pack(fill = 'x', expand = 1)

        btn1 = Button(frame, text='Button')
        btn1.pack(fill = 'x', side=LEFT)

        btn2 = Button(frame, text='Button')
        btn2.pack(fill = 'x', side=LEFT)

        btn3 = Button(frame, text='Button')
        btn3.pack(fill = 'x', side=LEFT)

        btn4 = Button(frame, text='Button')
        btn4.pack(side=LEFT)

        self.pack()

def main():

    root = Tk()
    root.geometry("+30+30")
    app = Example()
    app.lift()
    app.mainloop()


if __name__ == '__main__':
    main()
