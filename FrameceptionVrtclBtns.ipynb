"""
Vertical Buttons in Labeled Frame

Author: Anthony - working from Jan Bodnar's examples
found on www.zetcode.com
"""

from tkinter import Tk, Frame, Label, Button
from tkinter import BOTH, LEFT, TOP

class Example(Frame):

    def __init__(self):
        super().__init__()

        self.initUI()


    def initUI(self):

        self.master.title("Title")
        self.pack(fill='x', expand = 1)

        frame = Frame(self, bd=5, relief = 'sunken')
        frame.pack(fill = 'x', expand = 1)
        
        framename = "Frame Label"
        lbl = Label(frame, text=framename,  bd=5, relief = 'raised')
        lbl.pack(fill = 'x', expand = 1)

        btn1 = Button(frame, text='Button')
        btn1.pack(fill = 'x', side=TOP)

        btn2 = Button(frame, text='Button2')
        btn2.pack(fill = 'x', side=TOP)

        btn3 = Button(frame, text='Button3')
        btn3.pack(fill = 'x', side=TOP)

        btn4 = Button(frame, text='Button4')
        btn4.pack(fill = 'x', side=TOP)

        self.pack()

def main():

    root = Tk()
    root.geometry("+30+30")
    app = Example()
    app.lift()
    app.mainloop()


if __name__ == '__main__':
    main()
