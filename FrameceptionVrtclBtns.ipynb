"""
Frames in a Frame:
Vertical Buttons in Labeled Frames

Author: Anthony - working from Jan Bodnar's examples
found on www.zetcode.com
"""

from tkinter import Tk, Frame, Label, Button
from tkinter import BOTH, LEFT, TOP

class Example(Frame):

    def __init__(self):
        super().__init__()

        self.initUI()


    def initUI(self):

        self.master.title("Title")
        self.pack(fill='x', expand = 1)

        frame = Frame(self, bd=5, relief = 'sunken')
        frame.pack(fill = 'x', expand = 1)
        
        framename = "Outer Frame Label"
        lbl = Label(frame, text=framename,  bd=5, relief = 'raised')
        lbl.pack(fill = 'x', expand = 1)
        
        frame1 = Frame(frame, relief = 'sunken')
        frame1.pack(fill = 'x', expand = 1)
        
        framename = "Frame Label1"
        lbl = Label(frame1, text=framename,  bd=5, relief = 'raised')
        lbl.pack(fill = 'x', expand = 1)

        btn1 = Button(frame1, text='Button')
        btn1.pack(fill = 'x', side=TOP)

        btn2 = Button(frame1, text='Button2')
        btn2.pack(fill = 'x', side=TOP)

        btn3 = Button(frame1, text='Button3')
        btn3.pack(fill = 'x', side=TOP)

        btn4 = Button(frame1, text='Button4')
        btn4.pack(fill = 'x', side=TOP)
        
        frame2 = Frame(frame, relief = 'sunken')
        frame2.pack(fill = 'x', expand = 1)
        
        framename = "Frame Label2"
        lbl = Label(frame2, text=framename,  bd=5, relief = 'raised')
        lbl.pack(fill = 'x', expand = 1)
        
        btn1 = Button(frame2, text='Button')
        btn1.pack(fill = 'x', side=TOP)

        btn2 = Button(frame2, text='Button2')
        btn2.pack(fill = 'x', side=TOP)

        btn3 = Button(frame2, text='Button3')
        btn3.pack(fill = 'x', side=TOP)

        btn4 = Button(frame2, text='Button4')
        btn4.pack(fill = 'x', side=TOP)

        self.pack()

def main():

    root = Tk()
    root.geometry("+30+30")
    app = Example()
    app.lift()
    app.mainloop()


if __name__ == '__main__':
    main()
